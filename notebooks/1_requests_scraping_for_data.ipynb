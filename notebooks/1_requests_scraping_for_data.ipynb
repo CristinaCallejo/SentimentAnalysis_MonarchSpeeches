{
 "cells": [
  {
   "cell_type": "code",
   "execution_count": 2,
   "metadata": {},
   "outputs": [],
   "source": [
    "import requests\n",
    "from bs4 import BeautifulSoup\n",
    "import pandas as pd\n",
    "import wget\n",
    "import PyPDF2\n",
    "from pprint import pprint"
   ]
  },
  {
   "cell_type": "markdown",
   "metadata": {},
   "source": [
    "# 1. Requests: scraping for data"
   ]
  },
  {
   "cell_type": "markdown",
   "metadata": {},
   "source": [
    "### 2014"
   ]
  },
  {
   "cell_type": "code",
   "execution_count": 3,
   "metadata": {},
   "outputs": [],
   "source": [
    "url1 = \"https://www.elmundo.es/espana/2014/12/24/549ab6aa22601dc8458b456e.html\"\n",
    "res1 = requests.get(url1)"
   ]
  },
  {
   "cell_type": "code",
   "execution_count": 4,
   "metadata": {},
   "outputs": [],
   "source": [
    "soup1 = BeautifulSoup(res1.content, 'html.parser')\n",
    "#print(soup1.prettify())\n",
    "scraping1 = soup1.find(\"div\",{\"class\":\"col col-6\"}).find_all(\"p\")\n",
    "scrap1 = [i.get_text() for i in scraping1]\n",
    "del scrap1[-1]\n",
    "scrap1_txt = \"\".join(scrap1[2:])\n",
    "scrap1.insert(0,\"Felipe IV\")\n",
    "scrap1.insert(1,2014)\n",
    "scrap1.insert(2,scrap1_txt)\n",
    "scrap1 = scrap1[:3]\n",
    "#scrap1"
   ]
  },
  {
   "cell_type": "markdown",
   "metadata": {},
   "source": [
    "### 2015"
   ]
  },
  {
   "cell_type": "code",
   "execution_count": 5,
   "metadata": {
    "tags": []
   },
   "outputs": [],
   "source": [
    "url2 = \"https://www.elmundo.es/espana/2015/12/24/567c33d246163f5b5b8b45f9.html\"\n",
    "res2 = requests.get(url2)"
   ]
  },
  {
   "cell_type": "code",
   "execution_count": 6,
   "metadata": {
    "tags": []
   },
   "outputs": [],
   "source": [
    "soup2 = BeautifulSoup(res2.content, 'html.parser')\n",
    "#print(soup2.prettify())\n",
    "scraping2 = soup2.find(\"div\",{\"class\":\"row content cols-30-70\"}).find_all(\"p\")\n",
    "scrap2 = [i.get_text() for i in scraping2]\n",
    "del scrap2[:2]\n",
    "scrap2_txt = \"\".join(scrap2[2:])\n",
    "scrap2.insert(0,\"Felipe IV\")\n",
    "scrap2.insert(1,2015)\n",
    "scrap2.insert(2,scrap2_txt)\n",
    "scrap2 = scrap2[:3]\n",
    "#scrap2"
   ]
  },
  {
   "cell_type": "markdown",
   "metadata": {},
   "source": [
    "\n",
    "### 2016"
   ]
  },
  {
   "cell_type": "code",
   "execution_count": 7,
   "metadata": {},
   "outputs": [],
   "source": [
    "url3 = \"https://www.elmundo.es/espana/2016/12/25/585e9ccd46163fd13f8b45d6.html\"\n",
    "res3 = requests.get(url3)"
   ]
  },
  {
   "cell_type": "code",
   "execution_count": 8,
   "metadata": {},
   "outputs": [],
   "source": [
    "soup3 = BeautifulSoup(res3.content, 'html.parser')\n",
    "#print(soup3.prettify())\n",
    "scraping3 = soup3.find(\"div\",{\"class\":\"row content cols-70-30\"}).find_all(\"p\")\n",
    "scrap3 = [i.get_text() for i in scraping3]\n",
    "del scrap3[0]\n",
    "scrap3_txt = \"\".join(scrap3[2:])\n",
    "scrap3.insert(0,\"Felipe IV\")\n",
    "scrap3.insert(1,2016)\n",
    "scrap3.insert(2,scrap3_txt)\n",
    "scrap3 = scrap3[:3]\n",
    "#scrap3"
   ]
  },
  {
   "cell_type": "markdown",
   "metadata": {},
   "source": [
    "### 2017"
   ]
  },
  {
   "cell_type": "code",
   "execution_count": 9,
   "metadata": {},
   "outputs": [],
   "source": [
    "url4 = \"https://www.elmundo.es/espana/2017/12/24/5a3fbfd9468aebec3c8b458f.html\"\n",
    "res4 = requests.get(url4)"
   ]
  },
  {
   "cell_type": "code",
   "execution_count": 10,
   "metadata": {},
   "outputs": [],
   "source": [
    "soup4 = BeautifulSoup(res4.content, 'html.parser')\n",
    "#print(soup3.prettify())\n",
    "scraping4 = soup4.find(\"div\",{\"class\":\"row content cols-70-30\"}).find_all(\"p\")\n",
    "scrap4 = [i.get_text() for i in scraping4]\n",
    "del scrap4[:2]\n",
    "scrap4_txt = \"\".join(scrap4[2:])\n",
    "scrap4.insert(0,\"Felipe IV\")\n",
    "scrap4.insert(1,2017)\n",
    "scrap4.insert(2,scrap4_txt)\n",
    "scrap4 = scrap4[:3]\n",
    "#scrap4"
   ]
  },
  {
   "cell_type": "markdown",
   "metadata": {},
   "source": [
    "### 2018"
   ]
  },
  {
   "cell_type": "code",
   "execution_count": 11,
   "metadata": {},
   "outputs": [],
   "source": [
    "url5 = \"https://www.elmundo.es/espana/2018/12/25/5c210f88fdddff67358b457d.html\"\n",
    "res5 = requests.get(url5)"
   ]
  },
  {
   "cell_type": "code",
   "execution_count": 12,
   "metadata": {},
   "outputs": [],
   "source": [
    "soup5 = BeautifulSoup(res5.content, 'html.parser')\n",
    "scraping5 = soup5.find(\"div\",{\"class\":\"ue-l-article__body ue-c-article__body\"}).find_all(\"p\")\n",
    "scrap5=[i.get_text() for i in scraping5]\n",
    "del scrap5[-1]\n",
    "scrap5_txt = \"\".join(scrap5[2:])\n",
    "scrap5.insert(0,\"Felipe IV\")\n",
    "scrap5.insert(1, 2018)\n",
    "scrap5.insert(2,scrap5_txt)\n",
    "scrap5 = scrap5[:3]\n",
    "#scrap5"
   ]
  },
  {
   "cell_type": "markdown",
   "metadata": {},
   "source": [
    "### 2019"
   ]
  },
  {
   "cell_type": "code",
   "execution_count": 13,
   "metadata": {},
   "outputs": [],
   "source": [
    "url6= \"https://www.diariodesevilla.es/espana/Texto-integro-mensaje-Navidad-Rey_0_1421857982.html\"\n",
    "res6 = requests.get(url6)"
   ]
  },
  {
   "cell_type": "code",
   "execution_count": 14,
   "metadata": {},
   "outputs": [],
   "source": [
    "soup6 = BeautifulSoup(res6.content, 'html.parser')\n",
    "scraping6 = soup6.find_all(\"p\",{\"class\":\"mce\"})#articleBody\")\n",
    "scrap6=[i.get_text() for i in scraping6]\n",
    "del scrap6[0]\n",
    "scrap6_txt = \"\".join(scrap6[2:])\n",
    "scrap6.insert(0,\"Felipe IV\")\n",
    "scrap6.insert(1,2019)\n",
    "scrap6.insert(2,scrap6_txt)\n",
    "scrap6 = scrap6[:3]\n",
    "#scrap6"
   ]
  },
  {
   "cell_type": "markdown",
   "metadata": {},
   "source": [
    "### 2020"
   ]
  },
  {
   "cell_type": "code",
   "execution_count": 15,
   "metadata": {},
   "outputs": [],
   "source": [
    "url7= \"https://www.diariodesevilla.es/espana/Texto-integro-mensaje-Navidad-Rey_0_1531946799.html\"\n",
    "res7 = requests.get(url7)"
   ]
  },
  {
   "cell_type": "code",
   "execution_count": 16,
   "metadata": {},
   "outputs": [],
   "source": [
    "soup7 = BeautifulSoup(res7.content, 'html.parser')\n",
    "scraping7 = soup7.find_all(\"p\",{\"class\":\"mce\"})#articleBody\")\n",
    "scrap7=[i.get_text() for i in scraping7]\n",
    "del scrap7[:2]\n",
    "scrap7[-1] = scrap7[-1][:37]\n",
    "scrap7_txt = \"\".join(scrap7[2:])\n",
    "scrap7.insert(0,\"Felipe IV\")\n",
    "scrap7.insert(1,2020)\n",
    "scrap7.insert(2,scrap7_txt)\n",
    "scrap7 = scrap7[:3]\n",
    "#scrap7\n",
    "#print(soup8.prettify())"
   ]
  },
  {
   "cell_type": "markdown",
   "metadata": {},
   "source": [
    "### 2012"
   ]
  },
  {
   "cell_type": "code",
   "execution_count": 17,
   "metadata": {},
   "outputs": [],
   "source": [
    "url2012 = \"https://www.rtve.es/noticias/20121224/texto-integro-mensaje-navidad-del-rey-2012/592282.shtml\"\n",
    "req2012 = requests.get(url2012)"
   ]
  },
  {
   "cell_type": "code",
   "execution_count": 18,
   "metadata": {},
   "outputs": [],
   "source": [
    "soup2012 = BeautifulSoup(req2012.content, 'html.parser')\n",
    "scraping2012 = soup2012.find(\"div\",{\"class\":\"artBody\"}).find_all(\"p\")\n",
    "scrap2012 = [i.get_text() for i in scraping2012]\n",
    "scrap2012_txt = \"\".join(scrap2012)\n",
    "scrap2012.insert(0,\"Juan Carlos I\")\n",
    "scrap2012.insert(1,2012)\n",
    "scrap2012.insert(2,scrap2012_txt)\n",
    "scrap12 = scrap2012[:3]"
   ]
  },
  {
   "cell_type": "markdown",
   "metadata": {},
   "source": [
    "### 2013"
   ]
  },
  {
   "cell_type": "code",
   "execution_count": 19,
   "metadata": {},
   "outputs": [],
   "source": [
    "url2013 = \"https://www.abc.es/espana/20131225/abci-discurso-completo-201312251153.html\"\n",
    "req2013 = requests.get(url2013)"
   ]
  },
  {
   "cell_type": "code",
   "execution_count": 20,
   "metadata": {},
   "outputs": [],
   "source": [
    "soup2013 = BeautifulSoup(req2013.content, 'html.parser')\n",
    "scraping2013 = soup2013.find(\"span\",{\"class\":\"cuerpo-texto\"}).find_all(\"p\")\n",
    "scrap2013 = [i.get_text() for i in scraping2013[5:]]\n",
    "scrap2013[0]=scrap2013[0][69:]\n",
    "scrap2013_txt = \"\".join(scrap2013)\n",
    "scrap2013.insert(0,\"Juan Carlos I\")\n",
    "scrap2013.insert(1,2013)\n",
    "scrap2013.insert(2,scrap2013_txt)\n",
    "scrap13 = scrap2013[:3]"
   ]
  },
  {
   "cell_type": "markdown",
   "metadata": {},
   "source": [
    "## exporting data"
   ]
  },
  {
   "cell_type": "code",
   "execution_count": 21,
   "metadata": {},
   "outputs": [],
   "source": [
    "speeches_lst_felipe = [scrap1,scrap2,scrap3,scrap4,scrap5,scrap6,scrap7]\n",
    "speeches_lst_juancarlos = [scrap12,scrap13]\n",
    "df_cols = ['name','year','text']\n",
    "\n",
    "df_felipe = pd.DataFrame(speeches_lst_felipe, columns = df_cols)\n",
    "df_juancarlos = pd.DataFrame(speeches_lst_juancarlos, columns = df_cols)\n",
    "\n",
    "df_felipe.to_json('../data/felipe_2014_2020records.json', orient='records')\n",
    "df_felipe.to_csv('../data/felipe_2014_2020records.json.csv', index=False)\n",
    "df_juancarlos.to_json('../data/juancarlos_2012_2013records.json', orient='records')\n",
    "df_juancarlos.to_csv('../data/juancarlos_2012_2013records.csv', index=False)\n",
    "\n",
    "dct_felipe_rec = df_felipe.to_dict(\"records\")\n",
    "dct_juancarlos_rec = df_juancarlos.to_dict(\"records\")"
   ]
  },
  {
   "cell_type": "code",
   "execution_count": null,
   "metadata": {},
   "outputs": [],
   "source": []
  },
  {
   "cell_type": "code",
   "execution_count": null,
   "metadata": {},
   "outputs": [],
   "source": []
  },
  {
   "cell_type": "code",
   "execution_count": null,
   "metadata": {},
   "outputs": [],
   "source": []
  },
  {
   "cell_type": "code",
   "execution_count": null,
   "metadata": {},
   "outputs": [],
   "source": []
  },
  {
   "cell_type": "code",
   "execution_count": 23,
   "metadata": {},
   "outputs": [
    {
     "output_type": "execute_result",
     "data": {
      "text/plain": [
       "'\\nurl = \"https://www.lavanguardia.com/politica/20131224/54397528524/mensaje-de-navidad-de-s-m-el-rey-2013.html\"\\nreq = requests.get(url)\\n'"
      ]
     },
     "metadata": {},
     "execution_count": 23
    }
   ],
   "source": [
    "\"\"\"\n",
    "url = \"https://www.lavanguardia.com/politica/20131224/54397528524/mensaje-de-navidad-de-s-m-el-rey-2013.html\"\n",
    "req = requests.get(url)\n",
    "\"\"\""
   ]
  },
  {
   "cell_type": "code",
   "execution_count": 22,
   "metadata": {},
   "outputs": [
    {
     "output_type": "execute_result",
     "data": {
      "text/plain": [
       "'\\nsoup = BeautifulSoup(req.text, \\'html.parser\\')\\nlinks = soup.find_all(\\'a\\')\\nlinks_pdf= [link.get(\\'href\\') for link in links if (\\'.pdf\\' in link.get(\\'href\\',[]))]\\nwget.download(links_pdf[0],\\'../data/juancarlos_2013.pdf\\')\\nfile = open(\\'../data/juancarlos_2013.pdf\\',\"rb\")\\nreader = PyPDF2.PdfFileReader(file)\\n \\n# getPage will accept index\\npage1=reader.getPage(1)\\npage2=reader.getPage(2)\\npage3=reader.getPage(3)\\n\\n#pdf_text = [i.get_text() for i in scraping2012]\\n\\npg1 = page1.extractText()\\npg2 = page2.extractText()\\npg3 = page3.extractText()\\n\\ntype(pg1)\\na = reader.getPage(1).extractText()\\n'"
      ]
     },
     "metadata": {},
     "execution_count": 22
    }
   ],
   "source": [
    "\"\"\"\n",
    "soup = BeautifulSoup(req.text, 'html.parser')\n",
    "links = soup.find_all('a')\n",
    "links_pdf= [link.get('href') for link in links if ('.pdf' in link.get('href',[]))]\n",
    "wget.download(links_pdf[0],'../data/juancarlos_2013.pdf')\n",
    "file = open('../data/juancarlos_2013.pdf',\"rb\")\n",
    "reader = PyPDF2.PdfFileReader(file)\n",
    " \n",
    "# getPage will accept index\n",
    "page1=reader.getPage(1)\n",
    "page2=reader.getPage(2)\n",
    "page3=reader.getPage(3)\n",
    "\n",
    "#pdf_text = [i.get_text() for i in scraping2012]\n",
    "\n",
    "pg1 = page1.extractText()\n",
    "pg2 = page2.extractText()\n",
    "pg3 = page3.extractText()\n",
    "\n",
    "type(pg1)\n",
    "a = reader.getPage(1).extractText()\n",
    "\"\"\""
   ]
  },
  {
   "cell_type": "code",
   "execution_count": 124,
   "metadata": {},
   "outputs": [
    {
     "data": {
      "text/plain": [
       "<class 'str'>"
      ]
     },
     "execution_count": 124,
     "metadata": {},
     "output_type": "execute_result"
    }
   ],
   "source": [
    "\n"
   ]
  },
  {
   "cell_type": "code",
   "execution_count": 125,
   "metadata": {},
   "outputs": [],
   "source": []
  },
  {
   "cell_type": "code",
   "execution_count": null,
   "metadata": {},
   "outputs": [],
   "source": []
  },
  {
   "cell_type": "code",
   "execution_count": null,
   "metadata": {},
   "outputs": [],
   "source": []
  },
  {
   "cell_type": "code",
   "execution_count": null,
   "metadata": {},
   "outputs": [],
   "source": []
  },
  {
   "cell_type": "code",
   "execution_count": null,
   "metadata": {},
   "outputs": [],
   "source": []
  },
  {
   "cell_type": "code",
   "execution_count": null,
   "metadata": {},
   "outputs": [],
   "source": []
  },
  {
   "cell_type": "code",
   "execution_count": null,
   "metadata": {},
   "outputs": [],
   "source": []
  },
  {
   "cell_type": "code",
   "execution_count": null,
   "metadata": {},
   "outputs": [],
   "source": []
  },
  {
   "cell_type": "code",
   "execution_count": null,
   "metadata": {},
   "outputs": [],
   "source": []
  },
  {
   "cell_type": "code",
   "execution_count": null,
   "metadata": {},
   "outputs": [],
   "source": []
  },
  {
   "cell_type": "code",
   "execution_count": null,
   "metadata": {},
   "outputs": [],
   "source": []
  }
 ],
 "metadata": {
  "kernelspec": {
   "name": "python385jvsc74a57bd0fc13d466697e3d65c4cc51463b9b00513191fae9cb0e5e252f5ec05dbd3627dd",
   "display_name": "Python 3.8.5 64-bit ('ironhack': conda)"
  },
  "language_info": {
   "codemirror_mode": {
    "name": "ipython",
    "version": 3
   },
   "file_extension": ".py",
   "mimetype": "text/x-python",
   "name": "python",
   "nbconvert_exporter": "python",
   "pygments_lexer": "ipython3",
   "version": "3.8.5"
  },
  "toc": {
   "base_numbering": 1,
   "nav_menu": {},
   "number_sections": false,
   "sideBar": true,
   "skip_h1_title": false,
   "title_cell": "Table of Contents",
   "title_sidebar": "Contents",
   "toc_cell": false,
   "toc_position": {},
   "toc_section_display": true,
   "toc_window_display": false
  },
  "varInspector": {
   "cols": {
    "lenName": 16,
    "lenType": 16,
    "lenVar": 40
   },
   "kernels_config": {
    "python": {
     "delete_cmd_postfix": "",
     "delete_cmd_prefix": "del ",
     "library": "var_list.py",
     "varRefreshCmd": "print(var_dic_list())"
    },
    "r": {
     "delete_cmd_postfix": ") ",
     "delete_cmd_prefix": "rm(",
     "library": "var_list.r",
     "varRefreshCmd": "cat(var_dic_list()) "
    }
   },
   "types_to_exclude": [
    "module",
    "function",
    "builtin_function_or_method",
    "instance",
    "_Feature"
   ],
   "window_display": false
  }
 },
 "nbformat": 4,
 "nbformat_minor": 2
}