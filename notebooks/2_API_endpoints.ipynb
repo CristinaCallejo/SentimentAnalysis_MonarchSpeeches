{
 "cells": [
  {
   "cell_type": "code",
   "execution_count": 1,
   "metadata": {},
   "outputs": [],
   "source": [
    "from pymongo import MongoClient\n",
    "import requests"
   ]
  },
  {
   "cell_type": "markdown",
   "metadata": {},
   "source": [
    "# 2. API: endpoints"
   ]
  },
  {
   "cell_type": "code",
   "execution_count": 72,
   "metadata": {},
   "outputs": [],
   "source": [
    "client = MongoClient(\"mongodb://localhost/speeches\") \n",
    "db = client.get_database('speeches')\n",
    "collection = db['xmas']"
   ]
  },
  {
   "cell_type": "code",
   "execution_count": 73,
   "metadata": {},
   "outputs": [
    {
     "data": {
      "text/plain": [
       "MongoClient(host=['localhost:27017'], document_class=dict, tz_aware=False, connect=True)"
      ]
     },
     "execution_count": 73,
     "metadata": {},
     "output_type": "execute_result"
    }
   ],
   "source": [
    "client"
   ]
  },
  {
   "cell_type": "markdown",
   "metadata": {},
   "source": [
    "### ENDPOINTS"
   ]
  },
  {
   "cell_type": "code",
   "execution_count": 126,
   "metadata": {},
   "outputs": [],
   "source": [
    "urlbase = \"http://localhost:5000/\"\n",
    "urlspeeches = \"http://localhost:5000/speeches\"\n",
    "urlyear = \"http://localhost:5000/speeches/\"\n",
    "urladd = \"http://localhost:5000/speeches/new\""
   ]
  },
  {
   "cell_type": "markdown",
   "metadata": {},
   "source": [
    "      "
   ]
  },
  {
   "cell_type": "markdown",
   "metadata": {},
   "source": [
    "### GET: examples"
   ]
  },
  {
   "cell_type": "code",
   "execution_count": null,
   "metadata": {},
   "outputs": [],
   "source": [
    "\"\"\"\n",
    "data = pd.read_csv('<<INSERT NAME OF DATASET>>.csv')\n",
    "data.reset_index(inplace=True)\n",
    "data_dict = data.to_dict(\"records\")\n",
    "# Insert collection\n",
    "collection.insert_many(data_dict)\n",
    "\"\"\""
   ]
  },
  {
   "cell_type": "code",
   "execution_count": 165,
   "metadata": {},
   "outputs": [
    {
     "data": {
      "text/plain": [
       "b'<p>\"\"\"\\nimport markdown.extensions.fenced_code</p>\\n<p>RECAP </p>\\n<p>readme = \\n\"\"\"\\nElegir estructura base datos (SQL/Mongo. SQL puede ser m\\xc3\\xa1s \\xc3\\xbatil al ser relacional y evitar la duplicidad de datos)\\nCargar la BBDD a mano\\nHacer un endpoint de GET (el resto vienen solos)\\nHacer m\\xc3\\xa1s endpoints\\nHacer endpoints de POST\\nBorrar la BBDD y utilizar esos endpoints de POST para a\\xc3\\xb1adirla a trav\\xc3\\xa9s de la API\\nHacer sentiment analysis &amp; visualizaci\\xc3\\xb3n\"\\n\"\"\"</p>\\n<p>markdown.markdown(readme,extensions=[\\'fenced_code\\']))</p>'"
      ]
     },
     "execution_count": 165,
     "metadata": {},
     "output_type": "execute_result"
    }
   ],
   "source": [
    "resp_base = requests.get(urlbase)\n",
    "resp_base.content"
   ]
  },
  {
   "cell_type": "markdown",
   "metadata": {},
   "source": [
    "      "
   ]
  },
  {
   "cell_type": "code",
   "execution_count": 153,
   "metadata": {},
   "outputs": [],
   "source": [
    "year = 2012\n",
    "endpoint= urlyear+str(year)"
   ]
  },
  {
   "cell_type": "code",
   "execution_count": 154,
   "metadata": {},
   "outputs": [],
   "source": [
    "resp_year = requests.get(endpoint).json()\n",
    "#resp_year[0]"
   ]
  },
  {
   "cell_type": "markdown",
   "metadata": {},
   "source": [
    "      "
   ]
  },
  {
   "cell_type": "markdown",
   "metadata": {},
   "source": [
    "### POST: examples"
   ]
  },
  {
   "cell_type": "code",
   "execution_count": 160,
   "metadata": {},
   "outputs": [],
   "source": [
    "new_dict = {\n",
    "    'name': 'Juan Carlos',\n",
    "    'year': 2011,\n",
    "    'text': 'Blablabla'\n",
    "}"
   ]
  },
  {
   "cell_type": "code",
   "execution_count": 164,
   "metadata": {},
   "outputs": [],
   "source": [
    "resp_add = requests.post(urladd, data= new_dict)\n",
    "#resp_add.content"
   ]
  },
  {
   "cell_type": "code",
   "execution_count": 166,
   "metadata": {},
   "outputs": [
    {
     "data": {
      "text/plain": [
       "'\\ndata = pd.read_csv(\\'<<INSERT NAME OF DATASET>>.csv\\')\\ndata.reset_index(inplace=True)\\ndata_dict = data.to_dict(\"records\")\\n# Insert collection\\ncollection.insert_many(data_dict)\\n'"
      ]
     },
     "execution_count": 166,
     "metadata": {},
     "output_type": "execute_result"
    }
   ],
   "source": [
    "\"\"\"\n",
    "data = pd.read_csv('<<INSERT NAME OF DATASET>>.csv')\n",
    "data.reset_index(inplace=True)\n",
    "data_dict = data.to_dict(\"records\")\n",
    "# Insert collection\n",
    "collection.insert_many(data_dict)\n",
    "\"\"\""
   ]
  },
  {
   "cell_type": "code",
   "execution_count": null,
   "metadata": {},
   "outputs": [],
   "source": []
  }
 ],
 "metadata": {
  "kernelspec": {
   "display_name": "ironhack",
   "language": "python",
   "name": "ironhack"
  },
  "language_info": {
   "codemirror_mode": {
    "name": "ipython",
    "version": 3
   },
   "file_extension": ".py",
   "mimetype": "text/x-python",
   "name": "python",
   "nbconvert_exporter": "python",
   "pygments_lexer": "ipython3",
   "version": "3.8.5"
  },
  "toc": {
   "base_numbering": 1,
   "nav_menu": {},
   "number_sections": false,
   "sideBar": true,
   "skip_h1_title": false,
   "title_cell": "Table of Contents",
   "title_sidebar": "Contents",
   "toc_cell": false,
   "toc_position": {
    "height": "calc(100% - 180px)",
    "left": "10px",
    "top": "150px",
    "width": "165px"
   },
   "toc_section_display": true,
   "toc_window_display": false
  },
  "varInspector": {
   "cols": {
    "lenName": 16,
    "lenType": 16,
    "lenVar": 40
   },
   "kernels_config": {
    "python": {
     "delete_cmd_postfix": "",
     "delete_cmd_prefix": "del ",
     "library": "var_list.py",
     "varRefreshCmd": "print(var_dic_list())"
    },
    "r": {
     "delete_cmd_postfix": ") ",
     "delete_cmd_prefix": "rm(",
     "library": "var_list.r",
     "varRefreshCmd": "cat(var_dic_list()) "
    }
   },
   "types_to_exclude": [
    "module",
    "function",
    "builtin_function_or_method",
    "instance",
    "_Feature"
   ],
   "window_display": false
  }
 },
 "nbformat": 4,
 "nbformat_minor": 2
}