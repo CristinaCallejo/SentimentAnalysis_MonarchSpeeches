{
 "cells": [
  {
   "cell_type": "code",
   "execution_count": 1,
   "id": "fde1757c",
   "metadata": {},
   "outputs": [],
   "source": [
    "# conda install nltk\n",
    "# conda install textblob\n",
    "# conda install spacy\n",
    "# conda install langdetect\n",
    "# pip install sentiment-analysis-spanish\n",
    "# pip install keras tensorflow\n",
    "# pip install stylecloud\n",
    "\n",
    "import pandas as pd\n",
    "import re\n",
    "import nltk\n",
    "from nltk.sentiment.vader import SentimentIntensityAnalyzer\n",
    "from nltk.tokenize import RegexpTokenizer\n",
    "from nltk.corpus import stopwords\n",
    "from textblob import TextBlob\n",
    "from langdetect import detect\n",
    "from sentiment_analysis_spanish import sentiment_analysis\n",
    "\n",
    "#SpaCy\n",
    "import spacy\n",
    "from spacy import displacy\n"
   ]
  },
  {
   "cell_type": "code",
   "execution_count": 83,
   "id": "e84371e4",
   "metadata": {},
   "outputs": [],
   "source": [
    "df1 = pd.read_csv('../data/juancarlos_2012_2013index.csv')\n",
    "df = df1.copy()\n",
    "df = df[['name','year','text']]"
   ]
  },
  {
   "cell_type": "code",
   "execution_count": 84,
   "id": "aee2a88e",
   "metadata": {},
   "outputs": [
    {
     "data": {
      "text/html": [
       "<div>\n",
       "<style scoped>\n",
       "    .dataframe tbody tr th:only-of-type {\n",
       "        vertical-align: middle;\n",
       "    }\n",
       "\n",
       "    .dataframe tbody tr th {\n",
       "        vertical-align: top;\n",
       "    }\n",
       "\n",
       "    .dataframe thead th {\n",
       "        text-align: right;\n",
       "    }\n",
       "</style>\n",
       "<table border=\"1\" class=\"dataframe\">\n",
       "  <thead>\n",
       "    <tr style=\"text-align: right;\">\n",
       "      <th></th>\n",
       "      <th>name</th>\n",
       "      <th>year</th>\n",
       "      <th>text</th>\n",
       "    </tr>\n",
       "  </thead>\n",
       "  <tbody>\n",
       "    <tr>\n",
       "      <th>0</th>\n",
       "      <td>Juan Carlos I</td>\n",
       "      <td>2012</td>\n",
       "      <td>Buenas noches,En esta Nochebuena, como cada añ...</td>\n",
       "    </tr>\n",
       "    <tr>\n",
       "      <th>1</th>\n",
       "      <td>Juan Carlos I</td>\n",
       "      <td>2013</td>\n",
       "      <td>«Buenas noches. Quiero expresaros a todos mi c...</td>\n",
       "    </tr>\n",
       "  </tbody>\n",
       "</table>\n",
       "</div>"
      ],
      "text/plain": [
       "            name  year                                               text\n",
       "0  Juan Carlos I  2012  Buenas noches,En esta Nochebuena, como cada añ...\n",
       "1  Juan Carlos I  2013  «Buenas noches. Quiero expresaros a todos mi c..."
      ]
     },
     "execution_count": 84,
     "metadata": {},
     "output_type": "execute_result"
    }
   ],
   "source": [
    "df.head()"
   ]
  },
  {
   "cell_type": "code",
   "execution_count": 4,
   "id": "76fb6f6c",
   "metadata": {},
   "outputs": [],
   "source": [
    "def quitar_corchetes (string):\n",
    "    pattern = \"(\\[(.*?)\\])\"\n",
    "    sin_corchetes = re.sub(pattern, \"\", string)\n",
    "    return sin_corchetes"
   ]
  },
  {
   "cell_type": "code",
   "execution_count": 5,
   "id": "d89e3e8b",
   "metadata": {},
   "outputs": [],
   "source": [
    "def tokenize(wiped_strng):\n",
    "    tokenizer = RegexpTokenizer(r'\\w+')\n",
    "    tokens = [tokenizer.tokenize(wiped_strng)]\n",
    "    return tokens"
   ]
  },
  {
   "cell_type": "code",
   "execution_count": 6,
   "id": "3c27e02d",
   "metadata": {
    "scrolled": true
   },
   "outputs": [
    {
     "name": "stderr",
     "output_type": "stream",
     "text": [
      "[nltk_data] Downloading package punkt to /Users/cristina/nltk_data...\n",
      "[nltk_data]   Package punkt is already up-to-date!\n"
     ]
    },
    {
     "data": {
      "text/plain": [
       "True"
      ]
     },
     "execution_count": 6,
     "metadata": {},
     "output_type": "execute_result"
    }
   ],
   "source": [
    "nltk.download('punkt')"
   ]
  },
  {
   "cell_type": "code",
   "execution_count": 7,
   "id": "bc39fe06",
   "metadata": {},
   "outputs": [
    {
     "name": "stderr",
     "output_type": "stream",
     "text": [
      "[nltk_data] Downloading package stopwords to\n",
      "[nltk_data]     /Users/cristina/nltk_data...\n",
      "[nltk_data]   Package stopwords is already up-to-date!\n"
     ]
    },
    {
     "data": {
      "text/plain": [
       "True"
      ]
     },
     "execution_count": 7,
     "metadata": {},
     "output_type": "execute_result"
    }
   ],
   "source": [
    "nltk.download('stopwords') "
   ]
  },
  {
   "cell_type": "code",
   "execution_count": 8,
   "id": "bc7e90e6",
   "metadata": {},
   "outputs": [
    {
     "name": "stderr",
     "output_type": "stream",
     "text": [
      "[nltk_data] Downloading package vader_lexicon to\n",
      "[nltk_data]     /Users/cristina/nltk_data...\n",
      "[nltk_data]   Package vader_lexicon is already up-to-date!\n"
     ]
    },
    {
     "data": {
      "text/plain": [
       "True"
      ]
     },
     "execution_count": 8,
     "metadata": {},
     "output_type": "execute_result"
    }
   ],
   "source": [
    "nltk.download('vader_lexicon')"
   ]
  },
  {
   "cell_type": "code",
   "execution_count": 9,
   "id": "1e74a50b",
   "metadata": {},
   "outputs": [],
   "source": [
    "first = tokenize(df['text'][0])"
   ]
  },
  {
   "cell_type": "code",
   "execution_count": 10,
   "id": "743da82c",
   "metadata": {},
   "outputs": [],
   "source": [
    "second = tokenize(df['text'][1])"
   ]
  },
  {
   "cell_type": "code",
   "execution_count": 12,
   "id": "8dda83da",
   "metadata": {
    "scrolled": true
   },
   "outputs": [
    {
     "name": "stderr",
     "output_type": "stream",
     "text": [
      "<ipython-input-12-2a2e39f53a2f>:2: SettingWithCopyWarning: \n",
      "A value is trying to be set on a copy of a slice from a DataFrame\n",
      "\n",
      "See the caveats in the documentation: https://pandas.pydata.org/pandas-docs/stable/user_guide/indexing.html#returning-a-view-versus-a-copy\n",
      "  df['toked'][0] = first[0]\n",
      "<ipython-input-12-2a2e39f53a2f>:3: SettingWithCopyWarning: \n",
      "A value is trying to be set on a copy of a slice from a DataFrame\n",
      "\n",
      "See the caveats in the documentation: https://pandas.pydata.org/pandas-docs/stable/user_guide/indexing.html#returning-a-view-versus-a-copy\n",
      "  df['toked'][1] = second[0]\n"
     ]
    }
   ],
   "source": [
    "df['toked']=\"\"\n",
    "df['toked'][0] = first[0]\n",
    "df['toked'][1] = second[0]"
   ]
  },
  {
   "cell_type": "code",
   "execution_count": 13,
   "id": "7fdecc72",
   "metadata": {},
   "outputs": [],
   "source": [
    "df['toked'] = df['toked'].apply(lambda x: \" \".join(x))"
   ]
  },
  {
   "cell_type": "code",
   "execution_count": 14,
   "id": "91be01ef",
   "metadata": {},
   "outputs": [],
   "source": [
    "def translate_to_eng(strng):\n",
    "    spanish_string = TextBlob(strng)\n",
    "    try:\n",
    "        english_blob=spanish_string.translate(from_lang='es',to='en')\n",
    "        return \"\".join(list(english_blob))\n",
    "    except:\n",
    "        return strng"
   ]
  },
  {
   "cell_type": "code",
   "execution_count": 15,
   "id": "d3adf2c7",
   "metadata": {},
   "outputs": [],
   "source": [
    "df['translated'] = df['toked'].apply(translate_to_eng)\n",
    "df['translated'] = df['translated'].apply(lambda x: x.split(\" \"))"
   ]
  },
  {
   "cell_type": "code",
   "execution_count": 16,
   "id": "b4be9c88",
   "metadata": {},
   "outputs": [],
   "source": [
    "def stop_words (lst):\n",
    "    stop_words = set(stopwords.words('english'))\n",
    "    new_lst = []\n",
    "    for strng in lst:\n",
    "        if strng not in stop_words:\n",
    "            new_lst.append(strng)\n",
    "    return \" \".join(new_lst)"
   ]
  },
  {
   "cell_type": "code",
   "execution_count": 17,
   "id": "82dc4b00",
   "metadata": {},
   "outputs": [],
   "source": [
    "df['translated'] = df['translated'].apply(stop_words)"
   ]
  },
  {
   "cell_type": "code",
   "execution_count": 18,
   "id": "83f3f082",
   "metadata": {},
   "outputs": [
    {
     "name": "stdout",
     "output_type": "stream",
     "text": [
      "Sentiment(polarity=0.16534893677750825, subjectivity=0.45573355216212347)\n"
     ]
    }
   ],
   "source": [
    "blob_2012 = TextBlob(df['translated'][0]).sentiment\n",
    "blob_2013 = TextBlob(df['translated'][1]).sentiment\n",
    "print(blob_2012)"
   ]
  },
  {
   "cell_type": "code",
   "execution_count": 20,
   "id": "6183b989",
   "metadata": {
    "scrolled": true
   },
   "outputs": [
    {
     "name": "stderr",
     "output_type": "stream",
     "text": [
      "<ipython-input-20-4e4edd35a674>:2: SettingWithCopyWarning: \n",
      "A value is trying to be set on a copy of a slice from a DataFrame\n",
      "\n",
      "See the caveats in the documentation: https://pandas.pydata.org/pandas-docs/stable/user_guide/indexing.html#returning-a-view-versus-a-copy\n",
      "  df['sentiment_blob'][0]= blob_2012\n",
      "<ipython-input-20-4e4edd35a674>:3: SettingWithCopyWarning: \n",
      "A value is trying to be set on a copy of a slice from a DataFrame\n",
      "\n",
      "See the caveats in the documentation: https://pandas.pydata.org/pandas-docs/stable/user_guide/indexing.html#returning-a-view-versus-a-copy\n",
      "  df['sentiment_blob'][1]=blob_2013\n"
     ]
    }
   ],
   "source": [
    "df['sentiment_blob']= \"\"\n",
    "df['sentiment_blob'][0]= blob_2012\n",
    "df['sentiment_blob'][1]=blob_2013\n"
   ]
  },
  {
   "cell_type": "code",
   "execution_count": null,
   "id": "86b012e7",
   "metadata": {},
   "outputs": [],
   "source": [
    "df['sentiment_blob'] = df.translated.apply()"
   ]
  },
  {
   "cell_type": "code",
   "execution_count": 21,
   "id": "46dfd250",
   "metadata": {},
   "outputs": [],
   "source": [
    "def sentimentAnalysis(sentence):\n",
    "    sia = SentimentIntensityAnalyzer()\n",
    "    polarity = sia.polarity_scores(sentence)\n",
    "    pol = polarity['compound']\n",
    "    return pol"
   ]
  },
  {
   "cell_type": "code",
   "execution_count": 22,
   "id": "2f94efb8",
   "metadata": {},
   "outputs": [],
   "source": [
    "df['sentiment_compound'] = df.translated.apply(sentimentAnalysis)"
   ]
  },
  {
   "cell_type": "code",
   "execution_count": 51,
   "id": "67178f96",
   "metadata": {},
   "outputs": [],
   "source": [
    "tokes12_eng = tokenize(df['translated'][0])\n",
    "tokes13_eng = tokenize(df['translated'][1])\n",
    "fd12 = nltk.FreqDist(tokes12_eng[0])\n",
    "fd13 = nltk.FreqDist(tokes13_eng[0])"
   ]
  },
  {
   "cell_type": "code",
   "execution_count": 66,
   "id": "6c390c54",
   "metadata": {},
   "outputs": [
    {
     "name": "stderr",
     "output_type": "stream",
     "text": [
      "<ipython-input-66-93cdfb526875>:2: SettingWithCopyWarning: \n",
      "A value is trying to be set on a copy of a slice from a DataFrame\n",
      "\n",
      "See the caveats in the documentation: https://pandas.pydata.org/pandas-docs/stable/user_guide/indexing.html#returning-a-view-versus-a-copy\n",
      "  df['most_common'][0] = dict(fd12.most_common(20))\n",
      "<ipython-input-66-93cdfb526875>:3: SettingWithCopyWarning: \n",
      "A value is trying to be set on a copy of a slice from a DataFrame\n",
      "\n",
      "See the caveats in the documentation: https://pandas.pydata.org/pandas-docs/stable/user_guide/indexing.html#returning-a-view-versus-a-copy\n",
      "  df['most_common'][1] = dict(fd13.most_common(20))\n"
     ]
    }
   ],
   "source": [
    "df['most_common']=\"\"\n",
    "df['most_common'][0] = dict(fd12.most_common(20))\n",
    "df['most_common'][1] = dict(fd13.most_common(20))"
   ]
  },
  {
   "cell_type": "code",
   "execution_count": 75,
   "id": "9a11c047",
   "metadata": {},
   "outputs": [
    {
     "data": {
      "image/png": "[encoded data removed]",
      "text/plain": [
       "<Figure size 432x288 with 1 Axes>"
      ]
     },
     "metadata": {
      "needs_background": "light"
     },
     "output_type": "display_data"
    },
    {
     "data": {
      "text/plain": [
       "<AxesSubplot:xlabel='Samples', ylabel='Counts'>"
      ]
     },
     "execution_count": 75,
     "metadata": {},
     "output_type": "execute_result"
    }
   ],
   "source": [
    "fd12.plot(15,cumulative=False)"
   ]
  },
  {
   "cell_type": "code",
   "execution_count": 73,
   "id": "bad93d57",
   "metadata": {},
   "outputs": [
    {
     "data": {
      "image/png": "[encoded data removed]",
      "text/plain": [
       "<Figure size 432x288 with 1 Axes>"
      ]
     },
     "metadata": {
      "needs_background": "light"
     },
     "output_type": "display_data"
    },
    {
     "data": {
      "text/plain": [
       "<AxesSubplot:xlabel='Samples', ylabel='Counts'>"
      ]
     },
     "execution_count": 73,
     "metadata": {},
     "output_type": "execute_result"
    }
   ],
   "source": [
    "fd13.plot(15,cumulative=False)"
   ]
  },
  {
   "cell_type": "code",
   "execution_count": null,
   "id": "e6d8618b",
   "metadata": {},
   "outputs": [],
   "source": []
  }
 ],
 "metadata": {
  "kernelspec": {
   "display_name": "ironhack",
   "language": "python",
   "name": "ironhack"
  },
  "language_info": {
   "codemirror_mode": {
    "name": "ipython",
    "version": 3
   },
   "file_extension": ".py",
   "mimetype": "text/x-python",
   "name": "python",
   "nbconvert_exporter": "python",
   "pygments_lexer": "ipython3",
   "version": "3.8.5"
  },
  "toc": {
   "base_numbering": 1,
   "nav_menu": {},
   "number_sections": true,
   "sideBar": true,
   "skip_h1_title": false,
   "title_cell": "Table of Contents",
   "title_sidebar": "Contents",
   "toc_cell": false,
   "toc_position": {},
   "toc_section_display": true,
   "toc_window_display": false
  },
  "varInspector": {
   "cols": {
    "lenName": 16,
    "lenType": 16,
    "lenVar": 40
   },
   "kernels_config": {
    "python": {
     "delete_cmd_postfix": "",
     "delete_cmd_prefix": "del ",
     "library": "var_list.py",
     "varRefreshCmd": "print(var_dic_list())"
    },
    "r": {
     "delete_cmd_postfix": ") ",
     "delete_cmd_prefix": "rm(",
     "library": "var_list.r",
     "varRefreshCmd": "cat(var_dic_list()) "
    }
   },
   "types_to_exclude": [
    "module",
    "function",
    "builtin_function_or_method",
    "instance",
    "_Feature"
   ],
   "window_display": false
  }
 },
 "nbformat": 4,
 "nbformat_minor": 5
}